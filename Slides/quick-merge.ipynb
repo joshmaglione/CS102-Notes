{
 "cells": [
  {
   "cell_type": "code",
   "execution_count": null,
   "metadata": {},
   "outputs": [],
   "source": [
    "%load ../Algorithms/Alg09_QuickSort.py"
   ]
  },
  {
   "cell_type": "code",
   "execution_count": null,
   "metadata": {},
   "outputs": [],
   "source": [
    "%load ../Algorithms/Alg10_MergeSort.py"
   ]
  },
  {
   "cell_type": "code",
   "execution_count": null,
   "metadata": {},
   "outputs": [],
   "source": [
    "import timeit\n",
    "import random\n",
    "import matplotlib.pyplot as plt\n",
    "import numpy as np\n",
    "\n",
    "def compare_runtimes(max_len, n_trials):\n",
    "    QS_times = []\n",
    "    MS_times = []\n",
    "    QS_random = lambda n: lambda: QuickSort(random.sample(range(10000), n))\n",
    "    MS_random = lambda n: lambda: MergeSort(random.sample(range(10000), n))\n",
    "    for n in range(1, max_len + 1):\n",
    "        QS_time_n = timeit.timeit(QS_random(n), number=n_trials)\n",
    "        MS_time_n = timeit.timeit(MS_random(n), number=n_trials)\n",
    "        QS_times.append(QS_time_n)\n",
    "        MS_times.append(MS_time_n)\n",
    "    \n",
    "    fig, ax = plt.subplots()\n",
    "    ax.scatter(range(1, max_len + 1), QS_times, label='QuickSort', color='blue', alpha=0.6, s=5)\n",
    "    ax.scatter(range(1, max_len + 1), MS_times, label='MergeSort', color='red', alpha=0.6, s=5)\n",
    "    xs = np.linspace(1, max_len, 1000)\n",
    "    ax.plot(xs, xs * np.log2(xs) / (5.8*10**5), c='green')\n",
    "    ax.plot(xs, xs * np.log2(xs) / (9.2*10**5), c='orange')\n",
    "    ax.set_xlabel('List Length')\n",
    "    ax.set_ylabel('Average Runtime (seconds)')\n",
    "    ax.set_title('Runtime Comparison of QuickSort and MergeSort')\n",
    "    ax.legend()\n",
    "    ax.grid(True, linestyle='--', alpha=0.6)\n",
    "    return fig"
   ]
  },
  {
   "cell_type": "code",
   "execution_count": null,
   "metadata": {},
   "outputs": [],
   "source": [
    "_ = compare_runtimes(2000, 10)"
   ]
  }
 ],
 "metadata": {
  "kernelspec": {
   "display_name": ".venv",
   "language": "python",
   "name": "python3"
  },
  "language_info": {
   "codemirror_mode": {
    "name": "ipython",
    "version": 3
   },
   "file_extension": ".py",
   "mimetype": "text/x-python",
   "name": "python",
   "nbconvert_exporter": "python",
   "pygments_lexer": "ipython3",
   "version": "3.11.2"
  }
 },
 "nbformat": 4,
 "nbformat_minor": 2
}
